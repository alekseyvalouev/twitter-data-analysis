{
 "cells": [
  {
   "cell_type": "markdown",
   "id": "9c25cd72-eab7-42a7-9afd-643274d0c1be",
   "metadata": {},
   "source": [
    "**All Twitter data used in this notebook was gathered by me.**\n",
    " * See [()]"
   ]
  },
  {
   "cell_type": "code",
   "execution_count": null,
   "id": "40957047-9204-45af-8b1e-6924e554761f",
   "metadata": {},
   "outputs": [],
   "source": [
    "# Data Processing\n",
    "import pandas as pd\n",
    "import numpy as np\n",
    "\n"
   ]
  }
 ],
 "metadata": {
  "kernelspec": {
   "display_name": "Python 3 (ipykernel)",
   "language": "python",
   "name": "python3"
  },
  "language_info": {
   "codemirror_mode": {
    "name": "ipython",
    "version": 3
   },
   "file_extension": ".py",
   "mimetype": "text/x-python",
   "name": "python",
   "nbconvert_exporter": "python",
   "pygments_lexer": "ipython3",
   "version": "3.9.7"
  }
 },
 "nbformat": 4,
 "nbformat_minor": 5
}
